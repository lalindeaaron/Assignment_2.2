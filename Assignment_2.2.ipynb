{
 "cells": [
  {
   "cell_type": "markdown",
   "metadata": {},
   "source": [
    "This program will use a nested for loop to draw a pattern:\n",
    "\n",
    "The pattern has a total of 9 rows and 5 columns with the * symbol."
   ]
  },
  {
   "cell_type": "code",
   "execution_count": null,
   "metadata": {},
   "outputs": [],
   "source": [
    "for i in range (1,10): #i will represent the rows in the pattern\n",
    "    for j in range (1, i + 1): #j will represent the columns in the pattern \n",
    "        if i>5 and i + j > 10:  #this will allow the columns to decrease from row 6 to 9 using logic of pattern\n",
    "            break\n",
    "        print(\"* \", end = \" \")\n",
    "    print()"
   ]
  }
 ],
 "metadata": {
  "kernelspec": {
   "display_name": "Python 3",
   "language": "python",
   "name": "python3"
  },
  "language_info": {
   "codemirror_mode": {
    "name": "ipython",
    "version": 3
   },
   "file_extension": ".py",
   "mimetype": "text/x-python",
   "name": "python",
   "nbconvert_exporter": "python",
   "pygments_lexer": "ipython3",
   "version": "3.6.4"
  }
 },
 "nbformat": 4,
 "nbformat_minor": 2
}
